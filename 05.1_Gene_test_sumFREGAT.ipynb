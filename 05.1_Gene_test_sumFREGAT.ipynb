{
 "cells": [
  {
   "cell_type": "code",
   "execution_count": 1,
   "id": "de16b538",
   "metadata": {},
   "outputs": [],
   "source": [
    "# Use R kernel\n",
    "library(sumFREGAT)"
   ]
  },
  {
   "cell_type": "code",
   "execution_count": null,
   "id": "cc5927c6",
   "metadata": {},
   "outputs": [],
   "source": [
    "load(\"ref1KG.MAC5.EUR_AF.RData\")"
   ]
  },
  {
   "cell_type": "code",
   "execution_count": null,
   "id": "51b76766",
   "metadata": {},
   "outputs": [],
   "source": [
    "# GWAS_OSR_cov_logistic.tsv is the result from 01_GWAS_OSR_cov_logistic.py, but need to add an additional column \n",
    "# of EA (Effect Allele, same as the alternative allele). \n",
    "# The header of GWAS_OSR_cov_logistic.tsv file is : CHROM\tPOS\tID\tREF\tALT\tP\tChi2\tSE\tBETA\tEA\n",
    "# This step will generate GWAS_OSR_cov_logistic.vcf.gz and GWAS_OSR_cov_logistic.vcf.gz.tbi.\n",
    "# If it only generate GWAS_OSR_cov_logistic.vcf but not .gz and .tbi files, you can get them by running \n",
    "# the following two command yourself:\n",
    "# bgzip -c file.vcf > file.vcf.gz\n",
    "# tabix -p vcf file.vcf.gz\n",
    "\n",
    "prep.score.files(\n",
    "    data = './GWAS_OSR_cov_logistic.tsv',\n",
    "    reference = \"ref1KG.MAC5.EUR_AF.RData\",\n",
    "    output.file.prefix = \"GWAS_OSR_cov_logistic\"\n",
    ")"
   ]
  },
  {
   "cell_type": "code",
   "execution_count": null,
   "id": "76977589",
   "metadata": {},
   "outputs": [],
   "source": [
    "# SNP_cor_matrix/all/ folder contains SNP-SNP correlation matricies which can be downloaded \n",
    "# from https://mga.bionet.nsc.ru/sumFREGAT/\n",
    "# refFlat_gene_SNPs.txt is a refFlat format file containing information of genomic positions and \n",
    "# spans of all genes in a genome, and can be downloaded from Dryad [https://doi.org/10.5061/dryad.vdncjsz43]"
   ]
  },
  {
   "cell_type": "code",
   "execution_count": null,
   "id": "d6a12f0b",
   "metadata": {
    "scrolled": false
   },
   "outputs": [],
   "source": [
    "# SKATO test\n",
    "SKATO(score.file = 'GWAS_OSR_cov_logistic.vcf.gz', gene.file = \"./refFlat_gene_SNPs.txt\", cor.path = './SNP_cor_matrix/all',\n",
    "     write.file = 'results/SKATO.txt', quiet = FALSE, beta.par=c(1,1))"
   ]
  },
  {
   "cell_type": "code",
   "execution_count": null,
   "id": "8f7298bb",
   "metadata": {},
   "outputs": [],
   "source": [
    "# PCA test\n",
    "PCA(score.file = 'GWAS_OSR_cov_logistic.vcf.gz', gene.file = \"./refFlat_gene_SNPs.txt\", cor.path = './SNP_cor_matrix/all',\n",
    "     write.file = 'results/PCA.txt', quiet = FALSE, n=431735)"
   ]
  },
  {
   "cell_type": "code",
   "execution_count": null,
   "id": "57e5756f",
   "metadata": {},
   "outputs": [],
   "source": [
    "# ACAT-V test\n",
    "ACAT(score.file = 'GWAS_OSR_cov_logistic.vcf.gz', gene.file = \"./refFlat_gene_SNPs.txt\",\n",
    "     write.file = 'results/ACAT.txt', quiet = FALSE)"
   ]
  },
  {
   "cell_type": "code",
   "execution_count": null,
   "id": "6bbf9ee4",
   "metadata": {},
   "outputs": [],
   "source": [
    "# ACAT-O test\n",
    "SKATO_df = read.table('./results/SKATO.txt',header = T)\n",
    "PCA_df = read.table('./results/PCA.txt',header = T)\n",
    "ACAT_df = read.table('./results/ACAT.txt',header = T)\n",
    "\n",
    "p_combined_list <- list()\n",
    "\n",
    "for (i in 1:nrow(ACAT_df)){\n",
    "    p_SKATO = SKATO_df[i,'pvalue']\n",
    "    p_PCA = PCA_df[i,'pvalue']\n",
    "    p_ACAT = ACAT_df[i,'pvalue']\n",
    "    p_combined <- ACATO(c(p_SKATO, p_PCA, p_ACAT))\n",
    "    p_combined_list <- c(p_combined_list, p_combined)\n",
    "}\n",
    "\n",
    "ACATO_df <- ACAT_df\n",
    "\n",
    "ACATO_df$pvalue <- as.numeric(p_combined_list)\n",
    "\n",
    "write.table(ACATO_df, \"results/ACATO.txt\", row.names = FALSE,quote = FALSE)"
   ]
  }
 ],
 "metadata": {
  "kernelspec": {
   "display_name": "R [conda env:R]",
   "language": "R",
   "name": "conda-env-R-r"
  },
  "language_info": {
   "codemirror_mode": "r",
   "file_extension": ".r",
   "mimetype": "text/x-r-source",
   "name": "R",
   "pygments_lexer": "r",
   "version": "4.3.1"
  }
 },
 "nbformat": 4,
 "nbformat_minor": 5
}
