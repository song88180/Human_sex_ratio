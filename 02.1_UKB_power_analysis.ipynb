{
 "cells": [
  {
   "cell_type": "code",
   "execution_count": 1,
   "id": "16b7b4bb",
   "metadata": {},
   "outputs": [],
   "source": [
    "import pandas as pd\n",
    "import numpy as np\n",
    "import numpy.random as nrand\n",
    "\n",
    "import statsmodels.api as sm\n",
    "import scipy.stats as stats\n",
    "\n",
    "import matplotlib as mpl\n",
    "import matplotlib.pyplot as plt\n",
    "import seaborn as sns\n",
    "\n",
    "import pickle\n",
    "\n",
    "import warnings\n",
    "warnings.filterwarnings('ignore')"
   ]
  },
  {
   "cell_type": "code",
   "execution_count": 2,
   "id": "058301aa",
   "metadata": {},
   "outputs": [],
   "source": [
    "rcParams_dict = {\n",
    "    'xtick.bottom': True,\n",
    "    'patch.edgecolor':'k',\n",
    "    'patch.force_edgecolor': True,\n",
    "    'font.size': 15,\n",
    "    'pdf.fonttype':42,\n",
    "    'font.family':'Arial',\n",
    "    'mathtext.fontset':'custom',\n",
    "    'mathtext.default': 'regular',\n",
    "    'mathtext.it': 'Arial:italic',\n",
    "    'mathtext.it': 'Arial:italic',\n",
    "}\n",
    "mpl.rcParams.update(rcParams_dict)"
   ]
  },
  {
   "cell_type": "code",
   "execution_count": 10,
   "id": "e164f703",
   "metadata": {},
   "outputs": [
    {
     "data": {
      "text/plain": [
       "873256.0"
      ]
     },
     "execution_count": 10,
     "metadata": {},
     "output_type": "execute_result"
    }
   ],
   "source": [
    "df_phe['N_siblings'].sum()"
   ]
  },
  {
   "cell_type": "code",
   "execution_count": 3,
   "id": "81e1dcbb",
   "metadata": {},
   "outputs": [],
   "source": [
    "# Get true positive rate\n",
    "def get_TPR(beta, MAF, SR_WT = 0.52, N_rep = 1000, scale = 1):\n",
    "    \n",
    "    SR_1M = SR_WT + beta\n",
    "    SR_2M = SR_WT + 2*beta\n",
    "\n",
    "    # Total number of participants\n",
    "    N_Ps = len(df_phe) * scale\n",
    "\n",
    "    N_sib_Tot = df_phe['N_siblings'].sum() * scale\n",
    "    N_family_Tot = df_phe['N_family'].sum() * scale\n",
    "\n",
    "    N_Ps_1M = int(N_Ps * 2*(1-MAF)*MAF)\n",
    "    N_Ps_2M = int(N_Ps * MAF**2)\n",
    "    N_Ps_WT = N_Ps - N_Ps_1M - N_Ps_2M \n",
    "\n",
    "    res_dict = {\n",
    "        'P':[],\n",
    "        't':[],\n",
    "        'SE':[],\n",
    "        'BETA':[]\n",
    "    }\n",
    "    \n",
    "    for i in range(N_rep):\n",
    "        \n",
    "         # Here we only consider the genetic effect of one side of parents (either paternal or maternal).\n",
    "\n",
    "        #If the participant is WT\n",
    "        N_Ps_WT_Parent_WT, N_Ps_WT_Parent_1M= \\\n",
    "            nrand.multinomial(N_Ps_WT,[1-MAF, MAF])\n",
    "\n",
    "        # If the participant is 1M\n",
    "        N_Ps_1M_Parent_WT, N_Ps_1M_Parent_1M, N_Ps_1M_Parent_2M = \\\n",
    "            nrand.multinomial(N_Ps_1M ,[0.5*(1-MAF), 0.5, 0.5*MAF])\n",
    "\n",
    "        #If the participant is WT\n",
    "        N_Ps_2M_Parent_1M, N_Ps_2M_Parent_2M= \\\n",
    "            nrand.multinomial(N_Ps_2M,[1-MAF, MAF])\n",
    "\n",
    "        # Sample number of siblings for WT, 1M, and 2M\n",
    "        N_Ps_WT_Parent_WT_sib, N_Ps_WT_Parent_1M_sib,N_Ps_1M_Parent_WT_sib, \\\n",
    "        N_Ps_1M_Parent_1M_sib, N_Ps_1M_Parent_2M_sib,N_Ps_2M_Parent_1M_sib, \\\n",
    "        N_Ps_2M_Parent_2M_sib = nrand.multinomial(\n",
    "            N_sib_Tot,\n",
    "            np.array([N_Ps_WT_Parent_WT, N_Ps_WT_Parent_1M,N_Ps_1M_Parent_WT,\n",
    "                      N_Ps_1M_Parent_1M, N_Ps_1M_Parent_2M,N_Ps_2M_Parent_1M,\n",
    "                      N_Ps_2M_Parent_2M])/N_Ps\n",
    "        )\n",
    "\n",
    "        N_Ps_WT_sib = N_Ps_WT_Parent_WT_sib + N_Ps_WT_Parent_1M_sib\n",
    "        N_Ps_1M_sib = N_Ps_1M_Parent_WT_sib + N_Ps_1M_Parent_1M_sib + N_Ps_1M_Parent_2M_sib\n",
    "        N_Ps_2M_sib = N_Ps_2M_Parent_1M_sib + N_Ps_2M_Parent_2M_sib\n",
    "\n",
    "        # Sample number of brothers and sisters for WT, 1M, and 2M.\n",
    "        N_Ps_WT_bro = nrand.binomial(N_Ps_WT_Parent_WT_sib,SR_WT) + nrand.binomial(N_Ps_WT_Parent_1M_sib,SR_1M)\n",
    "        N_Ps_WT_sis = N_Ps_WT_sib - N_Ps_WT_bro\n",
    "\n",
    "        N_Ps_1M_bro = nrand.binomial(N_Ps_1M_Parent_WT_sib,SR_WT) + nrand.binomial(N_Ps_1M_Parent_1M_sib,SR_1M) + \\\n",
    "                      nrand.binomial(N_Ps_1M_Parent_2M_sib,SR_2M)\n",
    "        N_Ps_1M_sis = N_Ps_1M_sib - N_Ps_1M_bro\n",
    "\n",
    "        N_Ps_2M_bro = nrand.binomial(N_Ps_2M_Parent_1M_sib,SR_1M) + nrand.binomial(N_Ps_2M_Parent_2M_sib,SR_2M)\n",
    "        N_Ps_2M_sis = N_Ps_2M_sib - N_Ps_2M_bro\n",
    "\n",
    "        # Weighted Least Square Regression\n",
    "        X = np.array([0,1,2]).reshape(-1,1)\n",
    "        X = sm.add_constant(X)\n",
    "        Y = np.array([N_Ps_WT_bro/N_Ps_WT_sib, N_Ps_1M_bro/N_Ps_1M_sib, N_Ps_2M_bro/N_Ps_2M_sib]).reshape(-1,1)\n",
    "        Y[np.isnan(Y)] = 0 # avoid the problem of dividing 0.\n",
    "        \n",
    "        glm = sm.GLM(\n",
    "            Y,\n",
    "            X,\n",
    "            family=sm.families.Binomial(),\n",
    "            freq_weights=[N_Ps_WT_sib, N_Ps_1M_sib, N_Ps_2M_sib]\n",
    "        )\n",
    "        \n",
    "        res = glm.fit()\n",
    "\n",
    "        res_dict['P'].append(res.pvalues[1])\n",
    "        res_dict['t'].append(res.tvalues[1])\n",
    "        res_dict['SE'].append(res.bse[1])\n",
    "        res_dict['BETA'].append(res.params[1])\n",
    "        \n",
    "    TPR = (np.array(res_dict['P'])<5e-8).sum()/len(res_dict['P'])\n",
    "    return TPR"
   ]
  },
  {
   "cell_type": "code",
   "execution_count": 4,
   "id": "766d8601",
   "metadata": {},
   "outputs": [],
   "source": [
    "df_phe = pd.read_table('/home/siliang/Public/workspace/4_UKB_merged_files/GWAS/GWAS_adj_extended.phe')\n",
    "df_phe = df_phe[['IID','N_full_brothers','N_full_sisters','N_males_in_family','N_females_in_family']]\n",
    "\n",
    "df_dict = pd.read_table('/home/siliang/Public/workspace/4_UKB_merged_files/GWAS/IID_new_old_dict.csv')\n",
    "df_phe = pd.merge(right=df_dict, left=df_phe, right_on='OLD_IID', left_on='IID')\n",
    "df_phe['IID'] = df_phe['RAP_IID'] \n",
    "df_phe = df_phe.drop(columns=['RAP_IID','OLD_IID'])\n",
    "\n",
    "sam_df = pd.read_table(f'/home/siliang/Public/workspace/UKB_imp_filtered_SR_RAP/chr21.psam')\n",
    "\n",
    "target_IID = sam_df['IID']\n",
    "\n",
    "df_phe = pd.merge(right=df_phe,left=target_IID,on='IID')\n",
    "\n"
   ]
  },
  {
   "cell_type": "code",
   "execution_count": 5,
   "id": "6227ede4",
   "metadata": {
    "scrolled": false
   },
   "outputs": [],
   "source": [
    "df_phe['N_siblings'] = df_phe['N_full_brothers'] + df_phe['N_full_sisters']\n",
    "df_phe['N_family'] = df_phe['N_males_in_family'] + df_phe['N_females_in_family']"
   ]
  },
  {
   "cell_type": "code",
   "execution_count": 6,
   "id": "4bc6ec44",
   "metadata": {},
   "outputs": [],
   "source": [
    "SR_WT = 0.52\n",
    "beta = 0.05 # the minor allele's effect on sex ratio\n",
    "MAF = 0.0025\n",
    "N_rep = 1000"
   ]
  },
  {
   "cell_type": "code",
   "execution_count": 59,
   "id": "19e1b5cb",
   "metadata": {},
   "outputs": [
    {
     "name": "stdout",
     "output_type": "stream",
     "text": [
      "beta: 0.005\n",
      "beta: 0.01500000000000015\n",
      "beta: 0.01500000000000005\n",
      "beta: 0.02599999999999998\n",
      "beta: 0.02500000000000001\n",
      "beta: 0.030000000000000002\n",
      "beta: 0.034999999999999996\n",
      "beta: 0.045\n",
      "beta: 0.045\n",
      "beta: 0.049999999999999996\n",
      "beta: 0.055\n",
      "beta: 0.065\n",
      "beta: 0.065\n",
      "beta: 0.075\n",
      "beta: 0.07500000000000001\n",
      "beta: 0.085\n",
      "beta: 0.085\n",
      "beta: 0.09000000000000001\n",
      "beta: 0.095\n",
      "beta: 0.125\n",
      "beta: 0.10500000000000001\n",
      "beta: 0.115\n",
      "beta: 0.115\n",
      "beta: 0.12000000000000001\n",
      "beta: 0.125\n",
      "beta: 0.135\n",
      "beta: 0.135\n",
      "beta: 0.145\n",
      "beta: 0.14500000000000002\n",
      "beta: 0.155\n",
      "beta: 0.155\n",
      "beta: 0.165\n",
      "beta: 0.165\n",
      "beta: 0.175\n",
      "beta: 0.17500000000000002\n",
      "beta: 0.18000000000000002\n",
      "beta: 0.185\n",
      "beta: 0.195\n",
      "beta: 0.195\n",
      "beta: 0.225\n",
      "MAF: 0.0025\r"
     ]
    }
   ],
   "source": [
    "beta_list = np.linspace(start=0.005,stop=0.2,num=40)\n",
    "MAF_list = np.linspace(start=0.0025,stop=0.1,num=40)\n",
    "\n",
    "TPR_res_array = np.zeros(shape=[len(beta_list),len(MAF_list)])\n",
    "        \n",
    "for i,beta in enumerate(beta_list):\n",
    "    print(f'beta: {beta}')\n",
    "    for j,MAF in enumerate(MAF_list):\n",
    "        print(f'MAF: {MAF}',flush=True,end='\\r')\n",
    "        TPR_res_array[i,j] = get_TPR(beta, MAF, SR_WT, N_rep, scale=8)\n",
    "        if TPR_res_array[i,j] == 1:\n",
    "            TPR_res_array[i,j:] = 1\n",
    "            break"
   ]
  },
  {
   "cell_type": "code",
   "execution_count": 60,
   "id": "8841e138",
   "metadata": {},
   "outputs": [],
   "source": [
    "with open('TPR_res_array_UKB_logistic_8X.pkl','wb') as f:\n",
    "    pickle.dump(TPR_res_array,f)"
   ]
  },
  {
   "cell_type": "code",
   "execution_count": 7,
   "id": "74269d21",
   "metadata": {},
   "outputs": [
    {
     "name": "stdout",
     "output_type": "stream",
     "text": [
      "beta: 0.005\n",
      "beta: 0.0190000000000000023\n",
      "beta: 0.0150000000000000023\n",
      "beta: 0.0290000000000000023\n",
      "beta: 0.0250000000000000023\n",
      "beta: 0.0300000000000000023\n",
      "beta: 0.0349999999999999963\n",
      "beta: 0.0490000000000000023\n",
      "beta: 0.0450000000000000023\n",
      "beta: 0.0499999999999999963\n",
      "beta: 0.0550000000000000023\n",
      "beta: 0.0690000000000000023\n",
      "beta: 0.0650000000000000023\n",
      "beta: 0.0790000000000000023\n",
      "beta: 0.0750000000000000123\n",
      "beta: 0.0890000000000000023\n",
      "beta: 0.0850000000000000023\n",
      "beta: 0.0900000000000000123\n",
      "beta: 0.0950000000000000023\n",
      "beta: 0.1370000000000000023\n",
      "beta: 0.1050000000000000123\n",
      "beta: 0.1190000000000000023\n",
      "beta: 0.1150000000000000023\n",
      "beta: 0.1200000000000000123\n",
      "beta: 0.1250000000000000023\n",
      "beta: 0.1320000000000000023\n",
      "beta: 0.1350000000000000023\n",
      "beta: 0.1490000000000000023\n",
      "beta: 0.1450000000000000213\n",
      "beta: 0.1570000000000000013\n",
      "beta: 0.1550000000000000013\n",
      "beta: 0.1640000000000000023\n",
      "beta: 0.1650000000000000023\n",
      "beta: 0.1750000000000000023\n",
      "beta: 0.1750000000000000223\n",
      "beta: 0.1800000000000000213\n",
      "beta: 0.1850000000000000013\n",
      "beta: 0.1910000000000000013\n",
      "beta: 0.1950000000000000013\n",
      "beta: 0.2190000000000000013\n",
      "MAF: 0.00090000000000000013\r"
     ]
    }
   ],
   "source": [
    "beta_list = np.linspace(start=0.005,stop=0.2,num=40)\n",
    "MAF_list = np.linspace(start=0.0001,stop=0.004,num=40)\n",
    "\n",
    "TPR_res_array = np.zeros(shape=[len(beta_list),len(MAF_list)])\n",
    "\n",
    "for i,beta in enumerate(beta_list):\n",
    "    print(f'beta: {beta}')\n",
    "    for j,MAF in enumerate(MAF_list):\n",
    "        print(f'MAF: {MAF}',flush=True,end='\\r')\n",
    "        TPR_res_array[i,j] = get_TPR(beta, MAF, SR_WT, N_rep)\n",
    "        if TPR_res_array[i,j] == 1:\n",
    "            TPR_res_array[i,j:] = 1\n",
    "            break"
   ]
  },
  {
   "cell_type": "code",
   "execution_count": 8,
   "id": "9b317ec7",
   "metadata": {},
   "outputs": [],
   "source": [
    "# with open('TPR_res_array_UKB_logistic_small_MAF.pkl','wb') as f:\n",
    "#     pickle.dump(TPR_res_array,f)"
   ]
  },
  {
   "cell_type": "code",
   "execution_count": 17,
   "id": "b05f6f75",
   "metadata": {},
   "outputs": [],
   "source": [
    "with open('TPR_res_array_UKB_logistic_8X.pkl','rb') as f:\n",
    "    TPR_res_array = pickle.load(f)"
   ]
  },
  {
   "cell_type": "code",
   "execution_count": 11,
   "id": "e90d44c4",
   "metadata": {},
   "outputs": [
    {
     "data": {
      "text/plain": [
       "array([0.005, 0.01 , 0.015, 0.02 , 0.025, 0.03 , 0.035, 0.04 , 0.045,\n",
       "       0.05 , 0.055, 0.06 , 0.065, 0.07 , 0.075, 0.08 , 0.085, 0.09 ,\n",
       "       0.095, 0.1  , 0.105, 0.11 , 0.115, 0.12 , 0.125, 0.13 , 0.135,\n",
       "       0.14 , 0.145, 0.15 , 0.155, 0.16 , 0.165, 0.17 , 0.175, 0.18 ,\n",
       "       0.185, 0.19 , 0.195, 0.2  ])"
      ]
     },
     "execution_count": 11,
     "metadata": {},
     "output_type": "execute_result"
    }
   ],
   "source": [
    "np.linspace(start=0.005,stop=0.2,num=40)"
   ]
  },
  {
   "cell_type": "code",
   "execution_count": 14,
   "id": "4d564634",
   "metadata": {},
   "outputs": [
    {
     "data": {
      "text/plain": [
       "19"
      ]
     },
     "execution_count": 14,
     "metadata": {},
     "output_type": "execute_result"
    }
   ],
   "source": [
    "int(0.025/0.0025) - 1"
   ]
  },
  {
   "cell_type": "code",
   "execution_count": 48,
   "id": "6f429fc8",
   "metadata": {},
   "outputs": [
    {
     "data": {
      "text/plain": [
       "0.816"
      ]
     },
     "execution_count": 48,
     "metadata": {},
     "output_type": "execute_result"
    }
   ],
   "source": [
    "#beta = 0.035\n",
    "#MAF = 0.0025\n",
    "\n",
    "beta = 0.005\n",
    "MAF = 0.1\n",
    "\n",
    "row_idx = int(beta/0.005) - 1\n",
    "column_idx = int(MAF/0.0025) - 1\n",
    "TPR_res_array[row_idx,column_idx]"
   ]
  },
  {
   "cell_type": "code",
   "execution_count": 4,
   "id": "74ac315f",
   "metadata": {},
   "outputs": [
    {
     "data": {
      "text/plain": [
       "Text(53.222222222222214, 0.5, '$\\\\mathit{β}$')"
      ]
     },
     "execution_count": 4,
     "metadata": {},
     "output_type": "execute_result"
    },
    {
     "data": {
      "image/png": "[encoded data removed]",
      "text/plain": [
       "<Figure size 700x560 with 2 Axes>"
      ]
     },
     "metadata": {},
     "output_type": "display_data"
    }
   ],
   "source": [
    "fig,ax = plt.subplots(figsize=[7,5.6])\n",
    "ax2 = sns.heatmap(TPR_res_array)\n",
    "ax.set_xticks(ticks=np.linspace(3,39,10)+0.5,\n",
    "              labels=[f'{MAF*100:.0f}' for MAF in np.linspace(start=0.01,stop=0.1,num=10)],rotation=0,fontsize=15)\n",
    "ax.set_yticks(ticks=np.linspace(3,39,10)+0.5,\n",
    "              labels=[f'{beta:.2f}' for beta in np.linspace(start=0.02,stop=0.2,num=10)],rotation=0,fontsize=15)\n",
    "ax.invert_yaxis()\n",
    "\n",
    "cbar = ax2.collections[0].colorbar\n",
    "# here set the labelsize by 20\n",
    "cbar.ax.tick_params(labelsize=15)\n",
    "\n",
    "ax.set_xlabel('MAF(%)',fontsize=15)\n",
    "ax.set_ylabel('$\\mathit{β}$',fontsize=20,rotation=0,labelpad=15)\n",
    "\n",
    "#plt.savefig('UKB_power_analysis_logistic_8X.pdf')"
   ]
  },
  {
   "cell_type": "code",
   "execution_count": 18,
   "id": "6895f075",
   "metadata": {},
   "outputs": [
    {
     "data": {
      "text/plain": [
       "1.0"
      ]
     },
     "execution_count": 18,
     "metadata": {},
     "output_type": "execute_result"
    }
   ],
   "source": [
    "TPR_res_array[10-1,0]"
   ]
  },
  {
   "cell_type": "code",
   "execution_count": 19,
   "id": "3d31f73b",
   "metadata": {},
   "outputs": [
    {
     "data": {
      "text/plain": [
       "1.0"
      ]
     },
     "execution_count": 19,
     "metadata": {},
     "output_type": "execute_result"
    }
   ],
   "source": [
    "TPR_res_array[1,39]"
   ]
  },
  {
   "cell_type": "code",
   "execution_count": 70,
   "id": "8e44c773",
   "metadata": {},
   "outputs": [
    {
     "data": {
      "text/plain": [
       "0.855"
      ]
     },
     "execution_count": 70,
     "metadata": {},
     "output_type": "execute_result"
    }
   ],
   "source": [
    "TPR_res_array[6,0]"
   ]
  },
  {
   "cell_type": "code",
   "execution_count": 34,
   "id": "f49a3ef0",
   "metadata": {},
   "outputs": [
    {
     "data": {
      "text/plain": [
       "0.827"
      ]
     },
     "execution_count": 34,
     "metadata": {},
     "output_type": "execute_result"
    }
   ],
   "source": [
    "get_TPR(0.097, 0.0025, 0.52, 1000)"
   ]
  },
  {
   "cell_type": "code",
   "execution_count": 9,
   "id": "d9fe7936",
   "metadata": {},
   "outputs": [
    {
     "data": {
      "image/png": "[encoded data removed]",
      "text/plain": [
       "<Figure size 700x560 with 2 Axes>"
      ]
     },
     "metadata": {},
     "output_type": "display_data"
    }
   ],
   "source": [
    "fig,ax = plt.subplots(figsize=[7,5.6])\n",
    "ax2 = sns.heatmap(TPR_res_array)\n",
    "ax.set_xticks(ticks=np.linspace(3,39,10)+0.5,\n",
    "              labels=[f'{MAF*100:.0f}' for MAF in np.linspace(start=0.0004,stop=0.004,num=10)],rotation=0,fontsize=15)\n",
    "ax.set_yticks(ticks=np.linspace(3,39,10)+0.5,\n",
    "              labels=[f'{beta:.2f}' for beta in np.linspace(start=0.02,stop=0.2,num=10)],rotation=0,fontsize=15)\n",
    "ax.invert_yaxis()\n",
    "\n",
    "cbar = ax2.collections[0].colorbar\n",
    "# here set the labelsize by 20\n",
    "cbar.ax.tick_params(labelsize=15)\n",
    "\n",
    "ax.set_xlabel('MAF(%)',fontsize=15)\n",
    "ax.set_ylabel('$\\mathit{β}$',fontsize=20,rotation=0,labelpad=15)\n",
    "\n",
    "plt.savefig('UKB_power_analysis_logistic_small_MAF.pdf')"
   ]
  }
 ],
 "metadata": {
  "kernelspec": {
   "display_name": "Python 3 (ipykernel)",
   "language": "python",
   "name": "python3"
  },
  "language_info": {
   "codemirror_mode": {
    "name": "ipython",
    "version": 3
   },
   "file_extension": ".py",
   "mimetype": "text/x-python",
   "name": "python",
   "nbconvert_exporter": "python",
   "pygments_lexer": "ipython3",
   "version": "3.10.13"
  }
 },
 "nbformat": 4,
 "nbformat_minor": 5
}
