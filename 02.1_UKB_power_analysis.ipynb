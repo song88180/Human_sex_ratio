{
 "cells": [
  {
   "cell_type": "code",
   "execution_count": null,
   "id": "16b7b4bb",
   "metadata": {},
   "outputs": [],
   "source": [
    "import pandas as pd\n",
    "import numpy as np\n",
    "import numpy.random as nrand\n",
    "import statsmodels.api as sm\n",
    "import matplotlib as mpl\n",
    "import matplotlib.pyplot as plt\n",
    "import seaborn as sns\n",
    "import pickle\n",
    "import warnings\n",
    "\n",
    "warnings.filterwarnings('ignore')"
   ]
  },
  {
   "cell_type": "code",
   "execution_count": null,
   "id": "058301aa",
   "metadata": {},
   "outputs": [],
   "source": [
    "# Set matplotlib parameters for consistent styling\n",
    "rcParams_dict = {\n",
    "    'xtick.bottom': True,\n",
    "    'patch.edgecolor':'k',\n",
    "    'patch.force_edgecolor': True,\n",
    "    'font.size': 15,\n",
    "    'pdf.fonttype':42,\n",
    "    'font.family':'Arial',\n",
    "    'mathtext.fontset':'custom',\n",
    "    'mathtext.default': 'regular',\n",
    "    'mathtext.it': 'Arial:italic',\n",
    "    'mathtext.it': 'Arial:italic',\n",
    "}\n",
    "mpl.rcParams.update(rcParams_dict)"
   ]
  },
  {
   "cell_type": "code",
   "execution_count": null,
   "id": "766d8601",
   "metadata": {},
   "outputs": [],
   "source": [
    "# Load phenotype data\n",
    "df_phe = pd.read_table('/home/siliang/Public/workspace/4_UKB_merged_files/GWAS/GWAS_adj_extended.phe')\n",
    "df_phe = df_phe[['IID','N_full_brothers','N_full_sisters']]\n",
    "\n",
    "# Load sample data and merge with phenotype data\n",
    "sam_df = pd.read_table(f'/home/siliang/Public/workspace/UKB_imp_filtered_SR_RAP/chr1.psam')\n",
    "target_IID = sam_df['IID']\n",
    "df_phe = pd.merge(right=df_phe,left=target_IID,on='IID')\n",
    "\n",
    "# Calculate total number of siblings and family members\n",
    "df_phe['N_siblings'] = df_phe['N_full_brothers'] + df_phe['N_full_sisters']"
   ]
  },
  {
   "cell_type": "code",
   "execution_count": null,
   "id": "81e1dcbb",
   "metadata": {},
   "outputs": [],
   "source": [
    "# Function to get true positive rate (TPR) for a given beta and MAF\n",
    "def get_TPR(beta, MAF, SR_WT=0.52, N_rep=1000, scale=1):\n",
    "    SR_1M = SR_WT + beta\n",
    "    SR_2M = SR_WT + 2*beta\n",
    "\n",
    "    N_Ps = len(df_phe) * scale # Total number of participants in simulation\n",
    "    N_sib_Tot = df_phe['N_siblings'].sum() * scale # Total number of siblings in simulation\n",
    "\n",
    "    N_Ps_1M = int(N_Ps * 2*(1-MAF)*MAF) # Number of participants carrying one copy of mutant allele\n",
    "    N_Ps_2M = int(N_Ps * MAF**2) # Number of participants carrying two copy of mutant allele\n",
    "    N_Ps_WT = N_Ps - N_Ps_1M - N_Ps_2M  # Number of participants with wildtype genotype.\n",
    "\n",
    "    res_dict = {\n",
    "        'P':[],\n",
    "        't':[],\n",
    "        'SE':[],\n",
    "        'BETA':[]\n",
    "    }\n",
    "    \n",
    "    for i in range(N_rep):\n",
    "        \n",
    "        # Here we only consider the genetic effect of one side of parents (either paternal or maternal).\n",
    "        # Number of cases where \n",
    "        # participant is WT and the participant's father/mother is WT (N_Ps_WT_Parent_WT)\n",
    "        # participant is WT and the participant's father/mother is 1M (N_Ps_WT_Parent_1M)\n",
    "        N_Ps_WT_Parent_WT, N_Ps_WT_Parent_1M= \\\n",
    "            nrand.multinomial(N_Ps_WT,[1-MAF, MAF])\n",
    "\n",
    "        # Number of cases where \n",
    "        # participant is 1M and the participant's father/mother is WT (N_Ps_1M_Parent_WT)\n",
    "        # participant is 1M and the participant's father/mother is 1M (N_Ps_1M_Parent_1M)\n",
    "        # participant is 1M and the participant's father/mother is 2M (N_Ps_1M_Parent_2M)\n",
    "        N_Ps_1M_Parent_WT, N_Ps_1M_Parent_1M, N_Ps_1M_Parent_2M = \\\n",
    "            nrand.multinomial(N_Ps_1M ,[0.5*(1-MAF), 0.5, 0.5*MAF])\n",
    "\n",
    "        # Number of cases where \n",
    "        # participant is 2M and the participant's father/mother is 1M (N_Ps_2M_Parent_1M)\n",
    "        # participant is 2M and the participant's father/mother is 2M (N_Ps_2M_Parent_2M)\n",
    "        N_Ps_2M_Parent_1M, N_Ps_2M_Parent_2M= \\\n",
    "            nrand.multinomial(N_Ps_2M,[1-MAF, MAF])\n",
    "\n",
    "        # Sample number of siblings for each of participant-parent genotype combination\n",
    "        N_Ps_WT_Parent_WT_sib, N_Ps_WT_Parent_1M_sib,N_Ps_1M_Parent_WT_sib, \\\n",
    "        N_Ps_1M_Parent_1M_sib, N_Ps_1M_Parent_2M_sib,N_Ps_2M_Parent_1M_sib, \\\n",
    "        N_Ps_2M_Parent_2M_sib = nrand.multinomial(\n",
    "            N_sib_Tot,\n",
    "            np.array([N_Ps_WT_Parent_WT, N_Ps_WT_Parent_1M,N_Ps_1M_Parent_WT,\n",
    "                      N_Ps_1M_Parent_1M, N_Ps_1M_Parent_2M,N_Ps_2M_Parent_1M,\n",
    "                      N_Ps_2M_Parent_2M])/N_Ps\n",
    "        )\n",
    "        \n",
    "        # Calculate number of siblings for each participant's genotype\n",
    "        N_Ps_WT_sib = N_Ps_WT_Parent_WT_sib + N_Ps_WT_Parent_1M_sib\n",
    "        N_Ps_1M_sib = N_Ps_1M_Parent_WT_sib + N_Ps_1M_Parent_1M_sib + N_Ps_1M_Parent_2M_sib\n",
    "        N_Ps_2M_sib = N_Ps_2M_Parent_1M_sib + N_Ps_2M_Parent_2M_sib\n",
    "\n",
    "        # Sample number of brothers and sisters for WT, 1M, and 2M.\n",
    "        N_Ps_WT_bro = nrand.binomial(N_Ps_WT_Parent_WT_sib,SR_WT) + nrand.binomial(N_Ps_WT_Parent_1M_sib,SR_1M)\n",
    "        N_Ps_WT_sis = N_Ps_WT_sib - N_Ps_WT_bro\n",
    "\n",
    "        N_Ps_1M_bro = nrand.binomial(N_Ps_1M_Parent_WT_sib,SR_WT) + nrand.binomial(N_Ps_1M_Parent_1M_sib,SR_1M) + \\\n",
    "                      nrand.binomial(N_Ps_1M_Parent_2M_sib,SR_2M)\n",
    "        N_Ps_1M_sis = N_Ps_1M_sib - N_Ps_1M_bro\n",
    "\n",
    "        N_Ps_2M_bro = nrand.binomial(N_Ps_2M_Parent_1M_sib,SR_1M) + nrand.binomial(N_Ps_2M_Parent_2M_sib,SR_2M)\n",
    "        N_Ps_2M_sis = N_Ps_2M_sib - N_Ps_2M_bro\n",
    "\n",
    "        # Weighted Least Square Regression, equivalent to logistic regression.\n",
    "        X = np.array([0,1,2]).reshape(-1,1)\n",
    "        X = sm.add_constant(X)\n",
    "        Y = np.array([N_Ps_WT_bro/N_Ps_WT_sib, N_Ps_1M_bro/N_Ps_1M_sib, N_Ps_2M_bro/N_Ps_2M_sib]).reshape(-1,1)\n",
    "        Y[np.isnan(Y)] = 0 # avoid the problem of dividing 0.\n",
    "        \n",
    "        glm = sm.GLM(\n",
    "            Y,\n",
    "            X,\n",
    "            family=sm.families.Binomial(),\n",
    "            freq_weights=[N_Ps_WT_sib, N_Ps_1M_sib, N_Ps_2M_sib]\n",
    "        )\n",
    "        \n",
    "        res = glm.fit()\n",
    "\n",
    "        res_dict['P'].append(res.pvalues[1])\n",
    "        res_dict['t'].append(res.tvalues[1])\n",
    "        res_dict['SE'].append(res.bse[1])\n",
    "        res_dict['BETA'].append(res.params[1])\n",
    "    \n",
    "    # Calculate true positive rate.\n",
    "    TPR = (np.array(res_dict['P']) < 5e-8).sum()/len(res_dict['P'])\n",
    "    return TPR"
   ]
  },
  {
   "cell_type": "code",
   "execution_count": null,
   "id": "19e1b5cb",
   "metadata": {},
   "outputs": [],
   "source": [
    "# Parameters for simulation\n",
    "SR_WT = 0.52\n",
    "N_rep = 1000\n",
    "beta_list = np.linspace(start=0.005,stop=0.2,num=40)\n",
    "MAF_list = np.linspace(start=0.0025,stop=0.1,num=40)\n",
    "\n",
    "# Initialize result array\n",
    "TPR_res_array = np.zeros(shape=[len(beta_list),len(MAF_list)])\n",
    "\n",
    "# Run simulation for each combination of beta and MAF\n",
    "for i,beta in enumerate(beta_list):\n",
    "    print(f'beta: {beta}')\n",
    "    for j,MAF in enumerate(MAF_list):\n",
    "        print(f'MAF: {MAF}', flush=True, end='\\r')\n",
    "        # Adjust the scale (1, 2, 4, 8) to simulate different samples size.\n",
    "        # scale=1 means using the same sample size as the UKB.\n",
    "        TPR_res_array[i,j] = get_TPR(beta, MAF, SR_WT, N_rep, scale=1)\n",
    "        if TPR_res_array[i,j] == 1:\n",
    "            TPR_res_array[i,j:] = 1\n",
    "            break"
   ]
  },
  {
   "cell_type": "code",
   "execution_count": null,
   "id": "8841e138",
   "metadata": {},
   "outputs": [],
   "source": [
    "# Save the results\n",
    "with open('TPR_res_array_UKB_logistic_1X.pkl','wb') as f:\n",
    "    pickle.dump(TPR_res_array,f)"
   ]
  },
  {
   "cell_type": "code",
   "execution_count": 4,
   "id": "74ac315f",
   "metadata": {},
   "outputs": [
    {
     "data": {
      "text/plain": [
       "Text(53.222222222222214, 0.5, '$\\\\mathit{β}$')"
      ]
     },
     "execution_count": 4,
     "metadata": {},
     "output_type": "execute_result"
    },
    {
     "data": {
      "image/png": "[encoded data removed]",
      "text/plain": [
       "<Figure size 700x560 with 2 Axes>"
      ]
     },
     "metadata": {},
     "output_type": "display_data"
    }
   ],
   "source": [
    "# Plot the results\n",
    "fig,ax = plt.subplots(figsize=[7,5.6])\n",
    "ax2 = sns.heatmap(TPR_res_array)\n",
    "ax.set_xticks(ticks=np.linspace(3,39,10)+0.5,\n",
    "              labels=[f'{MAF*100:.0f}' for MAF in np.linspace(start=0.01,stop=0.1,num=10)],rotation=0,fontsize=15)\n",
    "ax.set_yticks(ticks=np.linspace(3,39,10)+0.5,\n",
    "              labels=[f'{beta:.2f}' for beta in np.linspace(start=0.02,stop=0.2,num=10)],rotation=0,fontsize=15)\n",
    "ax.invert_yaxis()\n",
    "\n",
    "cbar = ax2.collections[0].colorbar\n",
    "cbar.ax.tick_params(labelsize=15)\n",
    "\n",
    "ax.set_xlabel('MAF(%)',fontsize=15)\n",
    "ax.set_ylabel('$\\mathit{β}$',fontsize=20,rotation=0,labelpad=15)\n",
    "\n",
    "plt.savefig('UKB_power_analysis_logistic_1X.pdf')"
   ]
  }
 ],
 "metadata": {
  "kernelspec": {
   "display_name": "Python 3 (ipykernel)",
   "language": "python",
   "name": "python3"
  },
  "language_info": {
   "codemirror_mode": {
    "name": "ipython",
    "version": 3
   },
   "file_extension": ".py",
   "mimetype": "text/x-python",
   "name": "python",
   "nbconvert_exporter": "python",
   "pygments_lexer": "ipython3",
   "version": "3.10.13"
  }
 },
 "nbformat": 4,
 "nbformat_minor": 5
}
